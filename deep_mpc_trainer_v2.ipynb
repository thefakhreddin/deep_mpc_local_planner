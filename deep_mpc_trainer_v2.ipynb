{
 "cells": [
  {
   "cell_type": "code",
   "execution_count": 1,
   "id": "instrumental-college",
   "metadata": {},
   "outputs": [],
   "source": [
    "import numpy as np\n",
    "import pandas as pd\n",
    "import random\n",
    "\n",
    "import tensorflow as tf\n",
    "from tensorflow import keras\n",
    "from keras.models import Model, load_model\n",
    "from keras.layers import Dense, LSTM, Dropout, Input, Concatenate, Normalization, Conv2D, Flatten\n"
   ]
  },
  {
   "cell_type": "code",
   "execution_count": 2,
   "id": "spare-swaziland",
   "metadata": {},
   "outputs": [
    {
     "name": "stdout",
     "output_type": "stream",
     "text": [
      "================================\n",
      "current data size: \n",
      "\n",
      "(406340, 2) (406341, 110) (406341, 110) (406340, 2) (406340, 20, 20)\n",
      "reduced to: \n",
      "\n",
      "(406340, 2) (406340, 110) (406340, 110) (406340, 2) (406340, 20, 20)\n"
     ]
    }
   ],
   "source": [
    "FOLDER_INDEX = 8\n",
    "PLAN_LENGTH = 50\n",
    "DATASET_ADDRESS = f'../../bag/log_{FOLDER_INDEX}'\n",
    "\n",
    "cmdVel = pd.read_csv(\n",
    "    f'{DATASET_ADDRESS}/cmd_vel_log.csv', delimiter=',').values\n",
    "heading = pd.read_csv(f'{DATASET_ADDRESS}/heading.csv', delimiter=',').values\n",
    "costmap = pd.read_csv(f'{DATASET_ADDRESS}/costmap.csv',\n",
    "                      delimiter=',').values.reshape((-1, 20, 20))\n",
    "planX = pd.read_csv(f'{DATASET_ADDRESS}/global_plan_x_log.csv',\n",
    "                    delimiter=',', names=list(range(110)), header=None).values\n",
    "planY = pd.read_csv(f'{DATASET_ADDRESS}/global_plan_y_log.csv',\n",
    "                    delimiter=',', names=list(range(110)), header=None).values\n",
    "\n",
    "print(\"================================\")\n",
    "print(\"current data size: \\n\")\n",
    "print(cmdVel.shape, planX.shape, planY.shape, heading.shape, costmap.shape)\n",
    "len = np.amin([cmdVel.shape[0], planX.shape[0], planY.shape[0],\n",
    "              heading.shape[0], costmap.shape[0]])\n",
    "cmdVel = cmdVel[:len]\n",
    "heading = heading[:len]\n",
    "planX = planX[:len]\n",
    "planY = planY[:len]\n",
    "costmap = costmap[:len]\n",
    "print(\"reduced to: \\n\")\n",
    "print(cmdVel.shape, planX.shape, planY.shape, heading.shape, costmap.shape)\n",
    "\n",
    "planX = planX[:, :PLAN_LENGTH]\n",
    "planY = planY[:, :PLAN_LENGTH]"
   ]
  },
  {
   "cell_type": "code",
   "execution_count": 3,
   "id": "proof-binary",
   "metadata": {},
   "outputs": [
    {
     "name": "stdout",
     "output_type": "stream",
     "text": [
      "================================\n",
      "deleting NaNs; size reduced to:\n",
      " 306746\n"
     ]
    }
   ],
   "source": [
    "def emptyRows(arr):\n",
    "    delList = []\n",
    "    for r, row in enumerate(arr):\n",
    "        if np.any(np.isnan(row)):\n",
    "            delList += [r]\n",
    "    return delList\n",
    "\n",
    "\n",
    "delList1 = emptyRows(planX)\n",
    "delList2 = emptyRows(planY)\n",
    "assert delList1 == delList2\n",
    "\n",
    "planX = np.delete(planX, delList1, axis=0)\n",
    "planY = np.delete(planY, delList1, axis=0)\n",
    "cmdVel = np.delete(cmdVel, delList1, axis=0)\n",
    "heading = np.delete(heading, delList1, axis=0)\n",
    "costmap = np.delete(costmap, delList1, axis=0)\n",
    "\n",
    "print(\"================================\")\n",
    "print(f'deleting NaNs; size reduced to:\\n {planX.shape[0]}')\n",
    "\n",
    "assert not np.any(np.isnan(planX))\n",
    "assert not np.any(np.isnan(planY))\n",
    "assert not np.any(np.isnan(cmdVel))\n",
    "assert not np.any(np.isnan(heading))\n",
    "assert not np.any(np.isnan(costmap))"
   ]
  },
  {
   "cell_type": "code",
   "execution_count": 4,
   "id": "atomic-damages",
   "metadata": {},
   "outputs": [
    {
     "name": "stdout",
     "output_type": "stream",
     "text": [
      "================================\n",
      "data range:\n",
      "\n",
      "-1.37155 1.31044\n",
      "-1.34073 1.32024\n",
      "0.0 99.88889\n",
      "-0.22 0.22\n",
      "-2.77979 2.81163\n",
      "-0.99999 0.99999\n",
      "-0.99999 0.99999\n"
     ]
    }
   ],
   "source": [
    "print(\"================================\")\n",
    "print(\"data range:\\n\")\n",
    "print(planX.min().round(5), planX.max().round(5))\n",
    "print(planY.min().round(5), planY.max().round(5))\n",
    "print(costmap.min().round(5), costmap.max().round(5))\n",
    "for i in range(cmdVel.shape[1]):\n",
    "    print(cmdVel[:, i].min().round(5), cmdVel[:, i].max().round(5))\n",
    "for i in range(heading.shape[1]):\n",
    "    print(heading[:, i].min().round(5), heading[:, i].max().round(5))\n",
    "\n",
    "plan = np.stack([planX, planY], axis=2)\n",
    "\n",
    "heading = tf.convert_to_tensor(heading)\n",
    "cmdVel = tf.convert_to_tensor(cmdVel)\n",
    "plan = tf.convert_to_tensor(plan)\n",
    "costmap = tf.convert_to_tensor(costmap)"
   ]
  },
  {
   "cell_type": "code",
   "execution_count": 5,
   "id": "capital-spine",
   "metadata": {},
   "outputs": [
    {
     "name": "stdout",
     "output_type": "stream",
     "text": [
      "================================\n",
      "input shape:\n",
      " (TensorShape([306746, 50, 2]), TensorShape([306746, 2]), TensorShape([306746, 20, 20]))\n",
      "output shape:\n",
      " (306746, 2)\n",
      "validation length: 15337\n",
      "\n"
     ]
    }
   ],
   "source": [
    "print(\"================================\")\n",
    "print(f\"input shape:\\n {plan.shape, heading.shape, costmap.shape}\\noutput shape:\\n {cmdVel.shape}\")\n",
    "\n",
    "validationLength = int(plan.shape[0]*0.05)\n",
    "print(f'validation length: {validationLength}\\n')\n",
    "\n",
    "planNormalizer = Normalization()\n",
    "headingNormalizer = Normalization()\n",
    "costmapNormalizer = Normalization()\n",
    "\n",
    "planNormalizer.adapt(plan)\n",
    "headingNormalizer.adapt(heading)\n",
    "costmapNormalizer.adapt(costmap)\n"
   ]
  },
  {
   "cell_type": "code",
   "execution_count": 10,
   "id": "neither-basement",
   "metadata": {},
   "outputs": [],
   "source": [
    "planInput = Input((None, 2))\n",
    "headingInput = Input((2,))\n",
    "costmapInput = Input((20, 20, 1))\n",
    "\n",
    "planNormalized = planNormalizer(planInput)\n",
    "headingNormalized = headingNormalizer(headingInput)\n",
    "costmapNormalized = costmapNormalizer(costmapInput)\n",
    "\n",
    "planLatent = LSTM(32, input_shape=(None, 2), activation='tanh')(planNormalized)\n",
    "planLatent = Dense(16, activation='tanh')(planLatent)\n",
    "\n",
    "costmapLatent = Conv2D(16, (3, 3), activation=\"relu\",\n",
    "                       padding=\"same\", strides=(2, 2))(costmapNormalized)\n",
    "costmapLatent = Dropout(0.1)(costmapLatent)\n",
    "costmapLatent = Flatten()(costmapLatent)\n",
    "costmapLatent = Dense(8, activation=\"relu\")(costmapLatent)\n",
    "\n",
    "concatLayer = Concatenate()([planLatent, headingNormalized, costmapLatent])\n",
    "\n",
    "mergedLayer = Dense(16, activation='tanh')(concatLayer)\n",
    "mergedLayer = Dropout(0.1)(mergedLayer)\n",
    "mergedLayer = Dense(8, activation='tanh')(mergedLayer)\n",
    "output = Dense(2, activation='tanh')(mergedLayer)\n",
    "\n",
    "model = Model(inputs=[planInput, headingInput, costmapInput], outputs=output)\n"
   ]
  },
  {
   "cell_type": "code",
   "execution_count": 11,
   "id": "handled-necklace",
   "metadata": {},
   "outputs": [
    {
     "name": "stdout",
     "output_type": "stream",
     "text": [
      "================================\n",
      "================================\n",
      "================================\n",
      "Model: \"model_1\"\n",
      "__________________________________________________________________________________________________\n",
      " Layer (type)                   Output Shape         Param #     Connected to                     \n",
      "==================================================================================================\n",
      " input_6 (InputLayer)           [(None, 20, 20, 1)]  0           []                               \n",
      "                                                                                                  \n",
      " normalization_2 (Normalization  (None, 20, 20, 20)  41          ['input_6[0][0]']                \n",
      " )                                                                                                \n",
      "                                                                                                  \n",
      " input_4 (InputLayer)           [(None, None, 2)]    0           []                               \n",
      "                                                                                                  \n",
      " conv2d_1 (Conv2D)              (None, 10, 10, 16)   2896        ['normalization_2[1][0]']        \n",
      "                                                                                                  \n",
      " normalization (Normalization)  (None, None, 2)      5           ['input_4[0][0]']                \n",
      "                                                                                                  \n",
      " dropout_2 (Dropout)            (None, 10, 10, 16)   0           ['conv2d_1[0][0]']               \n",
      "                                                                                                  \n",
      " lstm_1 (LSTM)                  (None, 32)           4480        ['normalization[1][0]']          \n",
      "                                                                                                  \n",
      " input_5 (InputLayer)           [(None, 2)]          0           []                               \n",
      "                                                                                                  \n",
      " flatten_1 (Flatten)            (None, 1600)         0           ['dropout_2[0][0]']              \n",
      "                                                                                                  \n",
      " dense_5 (Dense)                (None, 16)           528         ['lstm_1[0][0]']                 \n",
      "                                                                                                  \n",
      " normalization_1 (Normalization  (None, 2)           5           ['input_5[0][0]']                \n",
      " )                                                                                                \n",
      "                                                                                                  \n",
      " dense_6 (Dense)                (None, 8)            12808       ['flatten_1[0][0]']              \n",
      "                                                                                                  \n",
      " concatenate_1 (Concatenate)    (None, 26)           0           ['dense_5[0][0]',                \n",
      "                                                                  'normalization_1[1][0]',        \n",
      "                                                                  'dense_6[0][0]']                \n",
      "                                                                                                  \n",
      " dense_7 (Dense)                (None, 16)           432         ['concatenate_1[0][0]']          \n",
      "                                                                                                  \n",
      " dropout_3 (Dropout)            (None, 16)           0           ['dense_7[0][0]']                \n",
      "                                                                                                  \n",
      " dense_8 (Dense)                (None, 8)            136         ['dropout_3[0][0]']              \n",
      "                                                                                                  \n",
      " dense_9 (Dense)                (None, 2)            18          ['dense_8[0][0]']                \n",
      "                                                                                                  \n",
      "==================================================================================================\n",
      "Total params: 21,349\n",
      "Trainable params: 21,298\n",
      "Non-trainable params: 51\n",
      "__________________________________________________________________________________________________\n"
     ]
    },
    {
     "data": {
      "image/png": "[encoded data removed]",
      "text/plain": [
       "<IPython.core.display.Image object>"
      ]
     },
     "execution_count": 11,
     "metadata": {},
     "output_type": "execute_result"
    }
   ],
   "source": [
    "model.compile(loss='mse',\n",
    "              optimizer=tf.keras.optimizers.SGD(\n",
    "                  learning_rate=1e-2, decay=1e-6, momentum=0.9, nesterov=True),\n",
    "              metrics=['accuracy'])\n",
    "print(\"================================\")\n",
    "print(\"================================\")\n",
    "print(\"================================\")\n",
    "\n",
    "model.summary()\n",
    "tf.keras.utils.plot_model(model, to_file='model.png', show_shapes=True)\n"
   ]
  },
  {
   "cell_type": "code",
   "execution_count": 12,
   "id": "pursuant-vinyl",
   "metadata": {},
   "outputs": [],
   "source": [
    "model_checkpoint_callback = tf.keras.callbacks.ModelCheckpoint(\n",
    "    filepath=f'{DATASET_ADDRESS}/checkpoint',\n",
    "    save_weights_only=False,\n",
    "    monitor='val_loss',\n",
    "    mode='min',\n",
    "    save_best_only=True)\n"
   ]
  },
  {
   "cell_type": "code",
   "execution_count": 13,
   "id": "arctic-vault",
   "metadata": {},
   "outputs": [
    {
     "name": "stdout",
     "output_type": "stream",
     "text": [
      "Epoch 1/150\n",
      "1821/1822 [============================>.] - ETA: 0s - loss: 0.1936 - accuracy: 0.5674"
     ]
    },
    {
     "name": "stderr",
     "output_type": "stream",
     "text": [
      "WARNING:absl:Found untraced functions such as _jit_compiled_convolution_op, lstm_cell_1_layer_call_fn, lstm_cell_1_layer_call_and_return_conditional_losses while saving (showing 3 of 3). These functions will not be directly callable after loading.\n"
     ]
    },
    {
     "name": "stdout",
     "output_type": "stream",
     "text": [
      "INFO:tensorflow:Assets written to: ../../bag/log_8/checkpoint/assets\n"
     ]
    },
    {
     "name": "stderr",
     "output_type": "stream",
     "text": [
      "INFO:tensorflow:Assets written to: ../../bag/log_8/checkpoint/assets\n"
     ]
    },
    {
     "name": "stdout",
     "output_type": "stream",
     "text": [
      "1822/1822 [==============================] - 46s 25ms/step - loss: 0.1936 - accuracy: 0.5674 - val_loss: 0.2058 - val_accuracy: 0.5476\n",
      "Epoch 2/150\n",
      "1822/1822 [==============================] - 41s 22ms/step - loss: 0.1903 - accuracy: 0.5687 - val_loss: 0.2076 - val_accuracy: 0.5484\n",
      "Epoch 3/150\n",
      "1821/1822 [============================>.] - ETA: 0s - loss: 0.1880 - accuracy: 0.5711"
     ]
    },
    {
     "name": "stderr",
     "output_type": "stream",
     "text": [
      "WARNING:absl:Found untraced functions such as _jit_compiled_convolution_op, lstm_cell_1_layer_call_fn, lstm_cell_1_layer_call_and_return_conditional_losses while saving (showing 3 of 3). These functions will not be directly callable after loading.\n"
     ]
    },
    {
     "name": "stdout",
     "output_type": "stream",
     "text": [
      "INFO:tensorflow:Assets written to: ../../bag/log_8/checkpoint/assets\n"
     ]
    },
    {
     "name": "stderr",
     "output_type": "stream",
     "text": [
      "INFO:tensorflow:Assets written to: ../../bag/log_8/checkpoint/assets\n"
     ]
    },
    {
     "name": "stdout",
     "output_type": "stream",
     "text": [
      "1822/1822 [==============================] - 44s 24ms/step - loss: 0.1880 - accuracy: 0.5712 - val_loss: 0.2032 - val_accuracy: 0.5607\n",
      "Epoch 4/150\n",
      "1822/1822 [==============================] - ETA: 0s - loss: 0.1835 - accuracy: 0.5758"
     ]
    },
    {
     "name": "stderr",
     "output_type": "stream",
     "text": [
      "WARNING:absl:Found untraced functions such as _jit_compiled_convolution_op, lstm_cell_1_layer_call_fn, lstm_cell_1_layer_call_and_return_conditional_losses while saving (showing 3 of 3). These functions will not be directly callable after loading.\n"
     ]
    },
    {
     "name": "stdout",
     "output_type": "stream",
     "text": [
      "INFO:tensorflow:Assets written to: ../../bag/log_8/checkpoint/assets\n"
     ]
    },
    {
     "name": "stderr",
     "output_type": "stream",
     "text": [
      "INFO:tensorflow:Assets written to: ../../bag/log_8/checkpoint/assets\n"
     ]
    },
    {
     "name": "stdout",
     "output_type": "stream",
     "text": [
      "1822/1822 [==============================] - 44s 24ms/step - loss: 0.1835 - accuracy: 0.5758 - val_loss: 0.1976 - val_accuracy: 0.5763\n",
      "Epoch 5/150\n",
      "1821/1822 [============================>.] - ETA: 0s - loss: 0.1763 - accuracy: 0.6001"
     ]
    },
    {
     "name": "stderr",
     "output_type": "stream",
     "text": [
      "WARNING:absl:Found untraced functions such as _jit_compiled_convolution_op, lstm_cell_1_layer_call_fn, lstm_cell_1_layer_call_and_return_conditional_losses while saving (showing 3 of 3). These functions will not be directly callable after loading.\n"
     ]
    },
    {
     "name": "stdout",
     "output_type": "stream",
     "text": [
      "INFO:tensorflow:Assets written to: ../../bag/log_8/checkpoint/assets\n"
     ]
    },
    {
     "name": "stderr",
     "output_type": "stream",
     "text": [
      "INFO:tensorflow:Assets written to: ../../bag/log_8/checkpoint/assets\n"
     ]
    },
    {
     "name": "stdout",
     "output_type": "stream",
     "text": [
      "1822/1822 [==============================] - 44s 24ms/step - loss: 0.1764 - accuracy: 0.6001 - val_loss: 0.1889 - val_accuracy: 0.6300\n",
      "Epoch 6/150\n",
      "1821/1822 [============================>.] - ETA: 0s - loss: 0.1659 - accuracy: 0.6457"
     ]
    },
    {
     "name": "stderr",
     "output_type": "stream",
     "text": [
      "WARNING:absl:Found untraced functions such as _jit_compiled_convolution_op, lstm_cell_1_layer_call_fn, lstm_cell_1_layer_call_and_return_conditional_losses while saving (showing 3 of 3). These functions will not be directly callable after loading.\n"
     ]
    },
    {
     "name": "stdout",
     "output_type": "stream",
     "text": [
      "INFO:tensorflow:Assets written to: ../../bag/log_8/checkpoint/assets\n"
     ]
    },
    {
     "name": "stderr",
     "output_type": "stream",
     "text": [
      "INFO:tensorflow:Assets written to: ../../bag/log_8/checkpoint/assets\n"
     ]
    },
    {
     "name": "stdout",
     "output_type": "stream",
     "text": [
      "1822/1822 [==============================] - 44s 24ms/step - loss: 0.1659 - accuracy: 0.6457 - val_loss: 0.1733 - val_accuracy: 0.6803\n",
      "Epoch 7/150\n",
      "1820/1822 [============================>.] - ETA: 0s - loss: 0.1564 - accuracy: 0.6852"
     ]
    },
    {
     "name": "stderr",
     "output_type": "stream",
     "text": [
      "WARNING:absl:Found untraced functions such as _jit_compiled_convolution_op, lstm_cell_1_layer_call_fn, lstm_cell_1_layer_call_and_return_conditional_losses while saving (showing 3 of 3). These functions will not be directly callable after loading.\n"
     ]
    },
    {
     "name": "stdout",
     "output_type": "stream",
     "text": [
      "INFO:tensorflow:Assets written to: ../../bag/log_8/checkpoint/assets\n"
     ]
    },
    {
     "name": "stderr",
     "output_type": "stream",
     "text": [
      "INFO:tensorflow:Assets written to: ../../bag/log_8/checkpoint/assets\n"
     ]
    },
    {
     "name": "stdout",
     "output_type": "stream",
     "text": [
      "1822/1822 [==============================] - 45s 24ms/step - loss: 0.1564 - accuracy: 0.6852 - val_loss: 0.1673 - val_accuracy: 0.7124\n",
      "Epoch 8/150\n",
      "1822/1822 [==============================] - ETA: 0s - loss: 0.1512 - accuracy: 0.7024"
     ]
    },
    {
     "name": "stderr",
     "output_type": "stream",
     "text": [
      "WARNING:absl:Found untraced functions such as _jit_compiled_convolution_op, lstm_cell_1_layer_call_fn, lstm_cell_1_layer_call_and_return_conditional_losses while saving (showing 3 of 3). These functions will not be directly callable after loading.\n"
     ]
    },
    {
     "name": "stdout",
     "output_type": "stream",
     "text": [
      "INFO:tensorflow:Assets written to: ../../bag/log_8/checkpoint/assets\n"
     ]
    },
    {
     "name": "stderr",
     "output_type": "stream",
     "text": [
      "INFO:tensorflow:Assets written to: ../../bag/log_8/checkpoint/assets\n"
     ]
    },
    {
     "name": "stdout",
     "output_type": "stream",
     "text": [
      "1822/1822 [==============================] - 44s 24ms/step - loss: 0.1512 - accuracy: 0.7024 - val_loss: 0.1646 - val_accuracy: 0.7164\n",
      "Epoch 9/150\n",
      "1822/1822 [==============================] - ETA: 0s - loss: 0.1476 - accuracy: 0.7130"
     ]
    },
    {
     "name": "stderr",
     "output_type": "stream",
     "text": [
      "WARNING:absl:Found untraced functions such as _jit_compiled_convolution_op, lstm_cell_1_layer_call_fn, lstm_cell_1_layer_call_and_return_conditional_losses while saving (showing 3 of 3). These functions will not be directly callable after loading.\n"
     ]
    },
    {
     "name": "stdout",
     "output_type": "stream",
     "text": [
      "INFO:tensorflow:Assets written to: ../../bag/log_8/checkpoint/assets\n"
     ]
    },
    {
     "name": "stderr",
     "output_type": "stream",
     "text": [
      "INFO:tensorflow:Assets written to: ../../bag/log_8/checkpoint/assets\n"
     ]
    },
    {
     "name": "stdout",
     "output_type": "stream",
     "text": [
      "1822/1822 [==============================] - 44s 24ms/step - loss: 0.1476 - accuracy: 0.7130 - val_loss: 0.1632 - val_accuracy: 0.7059\n",
      "Epoch 10/150\n",
      "1821/1822 [============================>.] - ETA: 0s - loss: 0.1444 - accuracy: 0.7212"
     ]
    },
    {
     "name": "stderr",
     "output_type": "stream",
     "text": [
      "WARNING:absl:Found untraced functions such as _jit_compiled_convolution_op, lstm_cell_1_layer_call_fn, lstm_cell_1_layer_call_and_return_conditional_losses while saving (showing 3 of 3). These functions will not be directly callable after loading.\n"
     ]
    },
    {
     "name": "stdout",
     "output_type": "stream",
     "text": [
      "INFO:tensorflow:Assets written to: ../../bag/log_8/checkpoint/assets\n"
     ]
    },
    {
     "name": "stderr",
     "output_type": "stream",
     "text": [
      "INFO:tensorflow:Assets written to: ../../bag/log_8/checkpoint/assets\n"
     ]
    },
    {
     "name": "stdout",
     "output_type": "stream",
     "text": [
      "1822/1822 [==============================] - 44s 24ms/step - loss: 0.1444 - accuracy: 0.7212 - val_loss: 0.1623 - val_accuracy: 0.7105\n",
      "Epoch 11/150\n",
      "1821/1822 [============================>.] - ETA: 0s - loss: 0.1418 - accuracy: 0.7237"
     ]
    },
    {
     "name": "stderr",
     "output_type": "stream",
     "text": [
      "WARNING:absl:Found untraced functions such as _jit_compiled_convolution_op, lstm_cell_1_layer_call_fn, lstm_cell_1_layer_call_and_return_conditional_losses while saving (showing 3 of 3). These functions will not be directly callable after loading.\n"
     ]
    },
    {
     "name": "stdout",
     "output_type": "stream",
     "text": [
      "INFO:tensorflow:Assets written to: ../../bag/log_8/checkpoint/assets\n"
     ]
    },
    {
     "name": "stderr",
     "output_type": "stream",
     "text": [
      "INFO:tensorflow:Assets written to: ../../bag/log_8/checkpoint/assets\n"
     ]
    },
    {
     "name": "stdout",
     "output_type": "stream",
     "text": [
      "1822/1822 [==============================] - 44s 24ms/step - loss: 0.1418 - accuracy: 0.7237 - val_loss: 0.1609 - val_accuracy: 0.7206\n",
      "Epoch 12/150\n",
      "1822/1822 [==============================] - 41s 22ms/step - loss: 0.1397 - accuracy: 0.7312 - val_loss: 0.1620 - val_accuracy: 0.7173\n",
      "Epoch 13/150\n",
      "1822/1822 [==============================] - 41s 23ms/step - loss: 0.1380 - accuracy: 0.7345 - val_loss: 0.1639 - val_accuracy: 0.7071\n",
      "Epoch 14/150\n",
      "1822/1822 [==============================] - ETA: 0s - loss: 0.1366 - accuracy: 0.7354"
     ]
    },
    {
     "name": "stderr",
     "output_type": "stream",
     "text": [
      "WARNING:absl:Found untraced functions such as _jit_compiled_convolution_op, lstm_cell_1_layer_call_fn, lstm_cell_1_layer_call_and_return_conditional_losses while saving (showing 3 of 3). These functions will not be directly callable after loading.\n"
     ]
    },
    {
     "name": "stdout",
     "output_type": "stream",
     "text": [
      "INFO:tensorflow:Assets written to: ../../bag/log_8/checkpoint/assets\n"
     ]
    },
    {
     "name": "stderr",
     "output_type": "stream",
     "text": [
      "INFO:tensorflow:Assets written to: ../../bag/log_8/checkpoint/assets\n"
     ]
    },
    {
     "name": "stdout",
     "output_type": "stream",
     "text": [
      "1822/1822 [==============================] - 44s 24ms/step - loss: 0.1366 - accuracy: 0.7354 - val_loss: 0.1605 - val_accuracy: 0.7330\n",
      "Epoch 15/150\n",
      "1822/1822 [==============================] - 41s 23ms/step - loss: 0.1348 - accuracy: 0.7394 - val_loss: 0.1632 - val_accuracy: 0.7098\n",
      "Epoch 16/150\n",
      "1822/1822 [==============================] - 41s 23ms/step - loss: 0.1333 - accuracy: 0.7413 - val_loss: 0.1612 - val_accuracy: 0.7311\n",
      "Epoch 17/150\n",
      "1822/1822 [==============================] - ETA: 0s - loss: 0.1320 - accuracy: 0.7455"
     ]
    },
    {
     "name": "stderr",
     "output_type": "stream",
     "text": [
      "WARNING:absl:Found untraced functions such as _jit_compiled_convolution_op, lstm_cell_1_layer_call_fn, lstm_cell_1_layer_call_and_return_conditional_losses while saving (showing 3 of 3). These functions will not be directly callable after loading.\n"
     ]
    },
    {
     "name": "stdout",
     "output_type": "stream",
     "text": [
      "INFO:tensorflow:Assets written to: ../../bag/log_8/checkpoint/assets\n"
     ]
    },
    {
     "name": "stderr",
     "output_type": "stream",
     "text": [
      "INFO:tensorflow:Assets written to: ../../bag/log_8/checkpoint/assets\n"
     ]
    },
    {
     "name": "stdout",
     "output_type": "stream",
     "text": [
      "1822/1822 [==============================] - 45s 24ms/step - loss: 0.1320 - accuracy: 0.7455 - val_loss: 0.1599 - val_accuracy: 0.7336\n",
      "Epoch 18/150\n",
      "1820/1822 [============================>.] - ETA: 0s - loss: 0.1309 - accuracy: 0.7473"
     ]
    },
    {
     "name": "stderr",
     "output_type": "stream",
     "text": [
      "WARNING:absl:Found untraced functions such as _jit_compiled_convolution_op, lstm_cell_1_layer_call_fn, lstm_cell_1_layer_call_and_return_conditional_losses while saving (showing 3 of 3). These functions will not be directly callable after loading.\n"
     ]
    },
    {
     "name": "stdout",
     "output_type": "stream",
     "text": [
      "INFO:tensorflow:Assets written to: ../../bag/log_8/checkpoint/assets\n"
     ]
    },
    {
     "name": "stderr",
     "output_type": "stream",
     "text": [
      "INFO:tensorflow:Assets written to: ../../bag/log_8/checkpoint/assets\n"
     ]
    },
    {
     "name": "stdout",
     "output_type": "stream",
     "text": [
      "1822/1822 [==============================] - 45s 24ms/step - loss: 0.1308 - accuracy: 0.7473 - val_loss: 0.1594 - val_accuracy: 0.7523\n",
      "Epoch 19/150\n",
      "1822/1822 [==============================] - 41s 23ms/step - loss: 0.1296 - accuracy: 0.7497 - val_loss: 0.1621 - val_accuracy: 0.7247\n",
      "Epoch 20/150\n",
      "1822/1822 [==============================] - 41s 23ms/step - loss: 0.1282 - accuracy: 0.7516 - val_loss: 0.1634 - val_accuracy: 0.7267\n",
      "Epoch 21/150\n",
      "1822/1822 [==============================] - 41s 23ms/step - loss: 0.1274 - accuracy: 0.7535 - val_loss: 0.1631 - val_accuracy: 0.7267\n",
      "Epoch 22/150\n",
      "1822/1822 [==============================] - 41s 23ms/step - loss: 0.1264 - accuracy: 0.7541 - val_loss: 0.1630 - val_accuracy: 0.7385\n",
      "Epoch 23/150\n",
      "1822/1822 [==============================] - 41s 23ms/step - loss: 0.1254 - accuracy: 0.7576 - val_loss: 0.1612 - val_accuracy: 0.7361\n",
      "Epoch 24/150\n",
      "1820/1822 [============================>.] - ETA: 0s - loss: 0.1244 - accuracy: 0.7592"
     ]
    },
    {
     "name": "stderr",
     "output_type": "stream",
     "text": [
      "WARNING:absl:Found untraced functions such as _jit_compiled_convolution_op, lstm_cell_1_layer_call_fn, lstm_cell_1_layer_call_and_return_conditional_losses while saving (showing 3 of 3). These functions will not be directly callable after loading.\n"
     ]
    },
    {
     "name": "stdout",
     "output_type": "stream",
     "text": [
      "INFO:tensorflow:Assets written to: ../../bag/log_8/checkpoint/assets\n"
     ]
    },
    {
     "name": "stderr",
     "output_type": "stream",
     "text": [
      "INFO:tensorflow:Assets written to: ../../bag/log_8/checkpoint/assets\n"
     ]
    },
    {
     "name": "stdout",
     "output_type": "stream",
     "text": [
      "1822/1822 [==============================] - 45s 24ms/step - loss: 0.1244 - accuracy: 0.7593 - val_loss: 0.1591 - val_accuracy: 0.7509\n",
      "Epoch 25/150\n",
      "1822/1822 [==============================] - 41s 22ms/step - loss: 0.1239 - accuracy: 0.7616 - val_loss: 0.1624 - val_accuracy: 0.7498\n",
      "Epoch 26/150\n",
      "1822/1822 [==============================] - 41s 23ms/step - loss: 0.1228 - accuracy: 0.7629 - val_loss: 0.1611 - val_accuracy: 0.7473\n",
      "Epoch 27/150\n",
      "1822/1822 [==============================] - 41s 23ms/step - loss: 0.1222 - accuracy: 0.7640 - val_loss: 0.1600 - val_accuracy: 0.7419\n",
      "Epoch 28/150\n",
      "1822/1822 [==============================] - 41s 22ms/step - loss: 0.1215 - accuracy: 0.7657 - val_loss: 0.1612 - val_accuracy: 0.7503\n",
      "Epoch 29/150\n",
      "1822/1822 [==============================] - 41s 23ms/step - loss: 0.1211 - accuracy: 0.7664 - val_loss: 0.1643 - val_accuracy: 0.7429\n",
      "Epoch 30/150\n",
      "1822/1822 [==============================] - 41s 23ms/step - loss: 0.1198 - accuracy: 0.7681 - val_loss: 0.1614 - val_accuracy: 0.7466\n",
      "Epoch 31/150\n",
      "1822/1822 [==============================] - 41s 23ms/step - loss: 0.1198 - accuracy: 0.7689 - val_loss: 0.1606 - val_accuracy: 0.7506\n",
      "Epoch 32/150\n",
      "1822/1822 [==============================] - 41s 23ms/step - loss: 0.1192 - accuracy: 0.7694 - val_loss: 0.1611 - val_accuracy: 0.7381\n",
      "Epoch 33/150\n",
      "1822/1822 [==============================] - 41s 22ms/step - loss: 0.1193 - accuracy: 0.7702 - val_loss: 0.1628 - val_accuracy: 0.7391\n",
      "Epoch 34/150\n",
      "1822/1822 [==============================] - 41s 22ms/step - loss: 0.1181 - accuracy: 0.7716 - val_loss: 0.1625 - val_accuracy: 0.7503\n",
      "Epoch 35/150\n",
      "1822/1822 [==============================] - 41s 22ms/step - loss: 0.1183 - accuracy: 0.7712 - val_loss: 0.1620 - val_accuracy: 0.7431\n",
      "Epoch 36/150\n",
      "1822/1822 [==============================] - 41s 22ms/step - loss: 0.1174 - accuracy: 0.7732 - val_loss: 0.1621 - val_accuracy: 0.7544\n",
      "Epoch 37/150\n",
      "1822/1822 [==============================] - 41s 22ms/step - loss: 0.1170 - accuracy: 0.7735 - val_loss: 0.1632 - val_accuracy: 0.7492\n",
      "Epoch 38/150\n",
      "1822/1822 [==============================] - 41s 22ms/step - loss: 0.1166 - accuracy: 0.7747 - val_loss: 0.1625 - val_accuracy: 0.7434\n",
      "Epoch 39/150\n",
      "1822/1822 [==============================] - 41s 22ms/step - loss: 0.1159 - accuracy: 0.7766 - val_loss: 0.1604 - val_accuracy: 0.7535\n",
      "Epoch 40/150\n",
      "1822/1822 [==============================] - 41s 23ms/step - loss: 0.1156 - accuracy: 0.7752 - val_loss: 0.1630 - val_accuracy: 0.7499\n",
      "Epoch 41/150\n",
      "1822/1822 [==============================] - 41s 23ms/step - loss: 0.1153 - accuracy: 0.7762 - val_loss: 0.1619 - val_accuracy: 0.7564\n",
      "Epoch 42/150\n",
      "1822/1822 [==============================] - 41s 22ms/step - loss: 0.1151 - accuracy: 0.7765 - val_loss: 0.1607 - val_accuracy: 0.7455\n",
      "Epoch 43/150\n",
      "1822/1822 [==============================] - 42s 23ms/step - loss: 0.1149 - accuracy: 0.7769 - val_loss: 0.1594 - val_accuracy: 0.7558\n",
      "Epoch 44/150\n",
      "1822/1822 [==============================] - 41s 23ms/step - loss: 0.1146 - accuracy: 0.7769 - val_loss: 0.1611 - val_accuracy: 0.7566\n",
      "Epoch 45/150\n",
      "1822/1822 [==============================] - 43s 24ms/step - loss: 0.1142 - accuracy: 0.7764 - val_loss: 0.1634 - val_accuracy: 0.7359\n",
      "Epoch 46/150\n",
      "1822/1822 [==============================] - 43s 24ms/step - loss: 0.1138 - accuracy: 0.7781 - val_loss: 0.1638 - val_accuracy: 0.7520\n",
      "Epoch 47/150\n",
      "1822/1822 [==============================] - 43s 24ms/step - loss: 0.1134 - accuracy: 0.7774 - val_loss: 0.1623 - val_accuracy: 0.7490\n",
      "Epoch 48/150\n",
      "1822/1822 [==============================] - 42s 23ms/step - loss: 0.1128 - accuracy: 0.7782 - val_loss: 0.1619 - val_accuracy: 0.7522\n",
      "Epoch 49/150\n",
      "1822/1822 [==============================] - 42s 23ms/step - loss: 0.1131 - accuracy: 0.7794 - val_loss: 0.1627 - val_accuracy: 0.7570\n",
      "Epoch 50/150\n",
      "1822/1822 [==============================] - 42s 23ms/step - loss: 0.1130 - accuracy: 0.7793 - val_loss: 0.1616 - val_accuracy: 0.7561\n",
      "Epoch 51/150\n",
      "1822/1822 [==============================] - 42s 23ms/step - loss: 0.1122 - accuracy: 0.7798 - val_loss: 0.1627 - val_accuracy: 0.7566\n",
      "Epoch 52/150\n",
      "1822/1822 [==============================] - 42s 23ms/step - loss: 0.1127 - accuracy: 0.7802 - val_loss: 0.1636 - val_accuracy: 0.7429\n",
      "Epoch 53/150\n",
      "1822/1822 [==============================] - 45s 25ms/step - loss: 0.1121 - accuracy: 0.7811 - val_loss: 0.1631 - val_accuracy: 0.7530\n",
      "Epoch 54/150\n",
      "1822/1822 [==============================] - 42s 23ms/step - loss: 0.1116 - accuracy: 0.7811 - val_loss: 0.1608 - val_accuracy: 0.7571\n",
      "Epoch 55/150\n",
      "1822/1822 [==============================] - 42s 23ms/step - loss: 0.1108 - accuracy: 0.7827 - val_loss: 0.1616 - val_accuracy: 0.7559\n",
      "Epoch 56/150\n",
      "1822/1822 [==============================] - 42s 23ms/step - loss: 0.1112 - accuracy: 0.7821 - val_loss: 0.1629 - val_accuracy: 0.7562\n",
      "Epoch 57/150\n",
      "1822/1822 [==============================] - 42s 23ms/step - loss: 0.1111 - accuracy: 0.7830 - val_loss: 0.1644 - val_accuracy: 0.7481\n",
      "Epoch 58/150\n",
      "1822/1822 [==============================] - 42s 23ms/step - loss: 0.1105 - accuracy: 0.7830 - val_loss: 0.1654 - val_accuracy: 0.7541\n",
      "Epoch 59/150\n",
      "1822/1822 [==============================] - 42s 23ms/step - loss: 0.1103 - accuracy: 0.7834 - val_loss: 0.1613 - val_accuracy: 0.7623\n",
      "Epoch 60/150\n",
      "1822/1822 [==============================] - 42s 23ms/step - loss: 0.1105 - accuracy: 0.7820 - val_loss: 0.1614 - val_accuracy: 0.7559\n",
      "Epoch 61/150\n",
      "1822/1822 [==============================] - 42s 23ms/step - loss: 0.1099 - accuracy: 0.7837 - val_loss: 0.1648 - val_accuracy: 0.7588\n",
      "Epoch 62/150\n",
      "1822/1822 [==============================] - 41s 23ms/step - loss: 0.1107 - accuracy: 0.7834 - val_loss: 0.1640 - val_accuracy: 0.7537\n",
      "Epoch 63/150\n",
      "1822/1822 [==============================] - 41s 23ms/step - loss: 0.1105 - accuracy: 0.7822 - val_loss: 0.1612 - val_accuracy: 0.7568\n",
      "Epoch 64/150\n",
      "1822/1822 [==============================] - 42s 23ms/step - loss: 0.1099 - accuracy: 0.7827 - val_loss: 0.1630 - val_accuracy: 0.7611\n",
      "Epoch 65/150\n",
      "1822/1822 [==============================] - 42s 23ms/step - loss: 0.1093 - accuracy: 0.7844 - val_loss: 0.1618 - val_accuracy: 0.7557\n",
      "Epoch 66/150\n",
      "1822/1822 [==============================] - 41s 23ms/step - loss: 0.1091 - accuracy: 0.7841 - val_loss: 0.1611 - val_accuracy: 0.7497\n",
      "Epoch 67/150\n",
      "1822/1822 [==============================] - 42s 23ms/step - loss: 0.1091 - accuracy: 0.7842 - val_loss: 0.1617 - val_accuracy: 0.7627\n",
      "Epoch 68/150\n",
      "1822/1822 [==============================] - 42s 23ms/step - loss: 0.1086 - accuracy: 0.7854 - val_loss: 0.1607 - val_accuracy: 0.7635\n",
      "Epoch 69/150\n",
      "1822/1822 [==============================] - 42s 23ms/step - loss: 0.1080 - accuracy: 0.7861 - val_loss: 0.1636 - val_accuracy: 0.7564\n",
      "Epoch 70/150\n",
      "1822/1822 [==============================] - 42s 23ms/step - loss: 0.1083 - accuracy: 0.7870 - val_loss: 0.1628 - val_accuracy: 0.7449\n",
      "Epoch 71/150\n",
      "1822/1822 [==============================] - 42s 23ms/step - loss: 0.1083 - accuracy: 0.7864 - val_loss: 0.1636 - val_accuracy: 0.7609\n",
      "Epoch 72/150\n",
      "1822/1822 [==============================] - 42s 23ms/step - loss: 0.1111 - accuracy: 0.7788 - val_loss: 0.1624 - val_accuracy: 0.7482\n",
      "Epoch 73/150\n",
      "1822/1822 [==============================] - 41s 23ms/step - loss: 0.1088 - accuracy: 0.7837 - val_loss: 0.1618 - val_accuracy: 0.7649\n",
      "Epoch 74/150\n",
      "1822/1822 [==============================] - 42s 23ms/step - loss: 0.1084 - accuracy: 0.7840 - val_loss: 0.1638 - val_accuracy: 0.7553\n",
      "Epoch 75/150\n",
      "1822/1822 [==============================] - 42s 23ms/step - loss: 0.1079 - accuracy: 0.7858 - val_loss: 0.1641 - val_accuracy: 0.7525\n",
      "Epoch 76/150\n",
      "1822/1822 [==============================] - 42s 23ms/step - loss: 0.1076 - accuracy: 0.7866 - val_loss: 0.1626 - val_accuracy: 0.7551\n",
      "Epoch 77/150\n",
      "1822/1822 [==============================] - 42s 23ms/step - loss: 0.1074 - accuracy: 0.7861 - val_loss: 0.1655 - val_accuracy: 0.7544\n",
      "Epoch 78/150\n",
      "1822/1822 [==============================] - 42s 23ms/step - loss: 0.1071 - accuracy: 0.7872 - val_loss: 0.1607 - val_accuracy: 0.7645\n",
      "Epoch 79/150\n"
     ]
    },
    {
     "name": "stdout",
     "output_type": "stream",
     "text": [
      "1822/1822 [==============================] - 42s 23ms/step - loss: 0.1071 - accuracy: 0.7882 - val_loss: 0.1626 - val_accuracy: 0.7695\n",
      "Epoch 80/150\n",
      "1822/1822 [==============================] - 41s 23ms/step - loss: 0.1072 - accuracy: 0.7870 - val_loss: 0.1636 - val_accuracy: 0.7548\n",
      "Epoch 81/150\n",
      "1822/1822 [==============================] - 42s 23ms/step - loss: 0.1072 - accuracy: 0.7881 - val_loss: 0.1641 - val_accuracy: 0.7505\n",
      "Epoch 82/150\n",
      "1822/1822 [==============================] - 42s 23ms/step - loss: 0.1067 - accuracy: 0.7877 - val_loss: 0.1623 - val_accuracy: 0.7634\n",
      "Epoch 83/150\n",
      "1822/1822 [==============================] - 42s 23ms/step - loss: 0.1070 - accuracy: 0.7878 - val_loss: 0.1629 - val_accuracy: 0.7623\n",
      "Epoch 84/150\n",
      "1822/1822 [==============================] - 42s 23ms/step - loss: 0.1066 - accuracy: 0.7880 - val_loss: 0.1620 - val_accuracy: 0.7621\n",
      "Epoch 85/150\n",
      "1822/1822 [==============================] - 42s 23ms/step - loss: 0.1066 - accuracy: 0.7880 - val_loss: 0.1633 - val_accuracy: 0.7604\n",
      "Epoch 86/150\n",
      "1822/1822 [==============================] - 42s 23ms/step - loss: 0.1061 - accuracy: 0.7885 - val_loss: 0.1637 - val_accuracy: 0.7650\n",
      "Epoch 87/150\n",
      "1822/1822 [==============================] - 42s 23ms/step - loss: 0.1064 - accuracy: 0.7889 - val_loss: 0.1621 - val_accuracy: 0.7685\n",
      "Epoch 88/150\n",
      "1822/1822 [==============================] - 42s 23ms/step - loss: 0.1061 - accuracy: 0.7895 - val_loss: 0.1608 - val_accuracy: 0.7649\n",
      "Epoch 89/150\n",
      "1822/1822 [==============================] - 42s 23ms/step - loss: 0.1059 - accuracy: 0.7896 - val_loss: 0.1603 - val_accuracy: 0.7691\n",
      "Epoch 90/150\n",
      "1822/1822 [==============================] - 42s 23ms/step - loss: 0.1058 - accuracy: 0.7902 - val_loss: 0.1625 - val_accuracy: 0.7630\n",
      "Epoch 91/150\n",
      "1822/1822 [==============================] - 42s 23ms/step - loss: 0.1052 - accuracy: 0.7893 - val_loss: 0.1617 - val_accuracy: 0.7650\n",
      "Epoch 92/150\n",
      "1822/1822 [==============================] - 42s 23ms/step - loss: 0.1053 - accuracy: 0.7913 - val_loss: 0.1615 - val_accuracy: 0.7577\n",
      "Epoch 93/150\n",
      "1822/1822 [==============================] - 42s 23ms/step - loss: 0.1054 - accuracy: 0.7906 - val_loss: 0.1628 - val_accuracy: 0.7540\n",
      "Epoch 94/150\n",
      "1822/1822 [==============================] - 42s 23ms/step - loss: 0.1052 - accuracy: 0.7891 - val_loss: 0.1623 - val_accuracy: 0.7630\n",
      "Epoch 95/150\n",
      "1822/1822 [==============================] - 42s 23ms/step - loss: 0.1053 - accuracy: 0.7907 - val_loss: 0.1611 - val_accuracy: 0.7597\n",
      "Epoch 96/150\n",
      "1822/1822 [==============================] - 42s 23ms/step - loss: 0.1051 - accuracy: 0.7916 - val_loss: 0.1609 - val_accuracy: 0.7682\n",
      "Epoch 97/150\n",
      "1822/1822 [==============================] - 42s 23ms/step - loss: 0.1055 - accuracy: 0.7915 - val_loss: 0.1626 - val_accuracy: 0.7619\n",
      "Epoch 98/150\n",
      "1822/1822 [==============================] - 42s 23ms/step - loss: 0.1051 - accuracy: 0.7898 - val_loss: 0.1596 - val_accuracy: 0.7712\n",
      "Epoch 99/150\n",
      "1822/1822 [==============================] - 42s 23ms/step - loss: 0.1045 - accuracy: 0.7908 - val_loss: 0.1612 - val_accuracy: 0.7552\n",
      "Epoch 100/150\n",
      "1822/1822 [==============================] - 42s 23ms/step - loss: 0.1046 - accuracy: 0.7915 - val_loss: 0.1604 - val_accuracy: 0.7697\n",
      "Epoch 101/150\n",
      "1822/1822 [==============================] - 42s 23ms/step - loss: 0.1046 - accuracy: 0.7911 - val_loss: 0.1616 - val_accuracy: 0.7670\n",
      "Epoch 102/150\n",
      "1822/1822 [==============================] - 42s 23ms/step - loss: 0.1044 - accuracy: 0.7919 - val_loss: 0.1618 - val_accuracy: 0.7698\n",
      "Epoch 103/150\n",
      "1822/1822 [==============================] - 42s 23ms/step - loss: 0.1043 - accuracy: 0.7910 - val_loss: 0.1615 - val_accuracy: 0.7673\n",
      "Epoch 104/150\n",
      "1822/1822 [==============================] - 42s 23ms/step - loss: 0.1073 - accuracy: 0.7828 - val_loss: 0.1601 - val_accuracy: 0.7634\n",
      "Epoch 105/150\n",
      "1822/1822 [==============================] - 42s 23ms/step - loss: 0.1052 - accuracy: 0.7884 - val_loss: 0.1618 - val_accuracy: 0.7630\n",
      "Epoch 106/150\n",
      "1822/1822 [==============================] - 42s 23ms/step - loss: 0.1047 - accuracy: 0.7895 - val_loss: 0.1615 - val_accuracy: 0.7667\n",
      "Epoch 107/150\n",
      "1822/1822 [==============================] - 42s 23ms/step - loss: 0.1042 - accuracy: 0.7920 - val_loss: 0.1620 - val_accuracy: 0.7616\n",
      "Epoch 108/150\n",
      "1822/1822 [==============================] - 42s 23ms/step - loss: 0.1038 - accuracy: 0.7929 - val_loss: 0.1602 - val_accuracy: 0.7721\n",
      "Epoch 109/150\n",
      "1822/1822 [==============================] - ETA: 0s - loss: 0.1034 - accuracy: 0.7916"
     ]
    },
    {
     "name": "stderr",
     "output_type": "stream",
     "text": [
      "WARNING:absl:Found untraced functions such as _jit_compiled_convolution_op, lstm_cell_1_layer_call_fn, lstm_cell_1_layer_call_and_return_conditional_losses while saving (showing 3 of 3). These functions will not be directly callable after loading.\n"
     ]
    },
    {
     "name": "stdout",
     "output_type": "stream",
     "text": [
      "INFO:tensorflow:Assets written to: ../../bag/log_8/checkpoint/assets\n"
     ]
    },
    {
     "name": "stderr",
     "output_type": "stream",
     "text": [
      "INFO:tensorflow:Assets written to: ../../bag/log_8/checkpoint/assets\n"
     ]
    },
    {
     "name": "stdout",
     "output_type": "stream",
     "text": [
      "1822/1822 [==============================] - 48s 26ms/step - loss: 0.1034 - accuracy: 0.7916 - val_loss: 0.1568 - val_accuracy: 0.7723\n",
      "Epoch 110/150\n",
      "1822/1822 [==============================] - 42s 23ms/step - loss: 0.1032 - accuracy: 0.7924 - val_loss: 0.1627 - val_accuracy: 0.7568\n",
      "Epoch 111/150\n",
      "1822/1822 [==============================] - 42s 23ms/step - loss: 0.1050 - accuracy: 0.7877 - val_loss: 0.1626 - val_accuracy: 0.7540\n",
      "Epoch 112/150\n",
      "1822/1822 [==============================] - 42s 23ms/step - loss: 0.1048 - accuracy: 0.7885 - val_loss: 0.1622 - val_accuracy: 0.7646\n",
      "Epoch 113/150\n",
      "1822/1822 [==============================] - 42s 23ms/step - loss: 0.1047 - accuracy: 0.7915 - val_loss: 0.1653 - val_accuracy: 0.7556\n",
      "Epoch 114/150\n",
      "1822/1822 [==============================] - 42s 23ms/step - loss: 0.1045 - accuracy: 0.7925 - val_loss: 0.1631 - val_accuracy: 0.7608\n",
      "Epoch 115/150\n",
      "1822/1822 [==============================] - 42s 23ms/step - loss: 0.1041 - accuracy: 0.7917 - val_loss: 0.1620 - val_accuracy: 0.7685\n",
      "Epoch 116/150\n",
      "1822/1822 [==============================] - 42s 23ms/step - loss: 0.1036 - accuracy: 0.7927 - val_loss: 0.1619 - val_accuracy: 0.7664\n",
      "Epoch 117/150\n",
      "1822/1822 [==============================] - 42s 23ms/step - loss: 0.1080 - accuracy: 0.7774 - val_loss: 0.1629 - val_accuracy: 0.7572\n",
      "Epoch 118/150\n",
      "1822/1822 [==============================] - 42s 23ms/step - loss: 0.1053 - accuracy: 0.7853 - val_loss: 0.1610 - val_accuracy: 0.7696\n",
      "Epoch 119/150\n",
      "1822/1822 [==============================] - 42s 23ms/step - loss: 0.1045 - accuracy: 0.7893 - val_loss: 0.1638 - val_accuracy: 0.7557\n",
      "Epoch 120/150\n",
      "1822/1822 [==============================] - 42s 23ms/step - loss: 0.1042 - accuracy: 0.7900 - val_loss: 0.1616 - val_accuracy: 0.7681\n",
      "Epoch 121/150\n",
      "1822/1822 [==============================] - 42s 23ms/step - loss: 0.1038 - accuracy: 0.7921 - val_loss: 0.1590 - val_accuracy: 0.7704\n",
      "Epoch 122/150\n",
      "1822/1822 [==============================] - 42s 23ms/step - loss: 0.1037 - accuracy: 0.7912 - val_loss: 0.1638 - val_accuracy: 0.7560\n",
      "Epoch 123/150\n",
      "1822/1822 [==============================] - 42s 23ms/step - loss: 0.1033 - accuracy: 0.7927 - val_loss: 0.1637 - val_accuracy: 0.7691\n",
      "Epoch 124/150\n",
      "1822/1822 [==============================] - 42s 23ms/step - loss: 0.1029 - accuracy: 0.7931 - val_loss: 0.1618 - val_accuracy: 0.7671\n",
      "Epoch 125/150\n",
      "1822/1822 [==============================] - 42s 23ms/step - loss: 0.1032 - accuracy: 0.7917 - val_loss: 0.1618 - val_accuracy: 0.7582\n",
      "Epoch 126/150\n",
      "1822/1822 [==============================] - 42s 23ms/step - loss: 0.1032 - accuracy: 0.7930 - val_loss: 0.1646 - val_accuracy: 0.7712\n",
      "Epoch 127/150\n",
      "1822/1822 [==============================] - 42s 23ms/step - loss: 0.1024 - accuracy: 0.7958 - val_loss: 0.1620 - val_accuracy: 0.7700\n",
      "Epoch 128/150\n",
      "1822/1822 [==============================] - 42s 23ms/step - loss: 0.1022 - accuracy: 0.7949 - val_loss: 0.1628 - val_accuracy: 0.7693\n",
      "Epoch 129/150\n",
      "1822/1822 [==============================] - 42s 23ms/step - loss: 0.1029 - accuracy: 0.7940 - val_loss: 0.1629 - val_accuracy: 0.7671\n",
      "Epoch 130/150\n",
      "1822/1822 [==============================] - 42s 23ms/step - loss: 0.1021 - accuracy: 0.7965 - val_loss: 0.1621 - val_accuracy: 0.7766\n",
      "Epoch 131/150\n",
      "1822/1822 [==============================] - 42s 23ms/step - loss: 0.1017 - accuracy: 0.7962 - val_loss: 0.1618 - val_accuracy: 0.7670\n",
      "Epoch 132/150\n",
      "1822/1822 [==============================] - 42s 23ms/step - loss: 0.1020 - accuracy: 0.7963 - val_loss: 0.1605 - val_accuracy: 0.7704\n",
      "Epoch 133/150\n",
      "1822/1822 [==============================] - 42s 23ms/step - loss: 0.1020 - accuracy: 0.7956 - val_loss: 0.1605 - val_accuracy: 0.7727\n",
      "Epoch 134/150\n",
      "1822/1822 [==============================] - 42s 23ms/step - loss: 0.1021 - accuracy: 0.7963 - val_loss: 0.1599 - val_accuracy: 0.7733\n",
      "Epoch 135/150\n",
      "1822/1822 [==============================] - 42s 23ms/step - loss: 0.1019 - accuracy: 0.7966 - val_loss: 0.1627 - val_accuracy: 0.7664\n",
      "Epoch 136/150\n",
      "1822/1822 [==============================] - 42s 23ms/step - loss: 0.1013 - accuracy: 0.7972 - val_loss: 0.1632 - val_accuracy: 0.7650\n",
      "Epoch 137/150\n",
      "1822/1822 [==============================] - 42s 23ms/step - loss: 0.1014 - accuracy: 0.7966 - val_loss: 0.1611 - val_accuracy: 0.7630\n",
      "Epoch 138/150\n",
      "1822/1822 [==============================] - 42s 23ms/step - loss: 0.1012 - accuracy: 0.7970 - val_loss: 0.1612 - val_accuracy: 0.7700\n",
      "Epoch 139/150\n",
      "1822/1822 [==============================] - 42s 23ms/step - loss: 0.1013 - accuracy: 0.7972 - val_loss: 0.1621 - val_accuracy: 0.7677\n",
      "Epoch 140/150\n",
      "1822/1822 [==============================] - 42s 23ms/step - loss: 0.1016 - accuracy: 0.7966 - val_loss: 0.1614 - val_accuracy: 0.7662\n",
      "Epoch 141/150\n",
      "1822/1822 [==============================] - 42s 23ms/step - loss: 0.1011 - accuracy: 0.7977 - val_loss: 0.1634 - val_accuracy: 0.7648\n",
      "Epoch 142/150\n",
      "1822/1822 [==============================] - 42s 23ms/step - loss: 0.1014 - accuracy: 0.7961 - val_loss: 0.1608 - val_accuracy: 0.7682\n",
      "Epoch 143/150\n",
      "1822/1822 [==============================] - 42s 23ms/step - loss: 0.1010 - accuracy: 0.7967 - val_loss: 0.1617 - val_accuracy: 0.7718\n",
      "Epoch 144/150\n",
      "1822/1822 [==============================] - 42s 23ms/step - loss: 0.1006 - accuracy: 0.7975 - val_loss: 0.1618 - val_accuracy: 0.7644\n",
      "Epoch 145/150\n",
      "1822/1822 [==============================] - 42s 23ms/step - loss: 0.1003 - accuracy: 0.7979 - val_loss: 0.1628 - val_accuracy: 0.7737\n",
      "Epoch 146/150\n",
      "1822/1822 [==============================] - 42s 23ms/step - loss: 0.1002 - accuracy: 0.7980 - val_loss: 0.1610 - val_accuracy: 0.7653\n",
      "Epoch 147/150\n",
      "1822/1822 [==============================] - 42s 23ms/step - loss: 0.1003 - accuracy: 0.7988 - val_loss: 0.1625 - val_accuracy: 0.7732\n",
      "Epoch 148/150\n",
      "1822/1822 [==============================] - 42s 23ms/step - loss: 0.1026 - accuracy: 0.7934 - val_loss: 0.1626 - val_accuracy: 0.7568\n",
      "Epoch 149/150\n",
      "1822/1822 [==============================] - 42s 23ms/step - loss: 0.1017 - accuracy: 0.7945 - val_loss: 0.1611 - val_accuracy: 0.7669\n",
      "Epoch 150/150\n",
      "1822/1822 [==============================] - 42s 23ms/step - loss: 0.1013 - accuracy: 0.7968 - val_loss: 0.1611 - val_accuracy: 0.7659\n"
     ]
    },
    {
     "data": {
      "text/plain": [
       "<keras.callbacks.History at 0x7fe485b00a00>"
      ]
     },
     "execution_count": 13,
     "metadata": {},
     "output_type": "execute_result"
    }
   ],
   "source": [
    "model.fit(\n",
    "    x=[plan[:-validationLength],\n",
    "      heading[:-validationLength],\n",
    "      costmap[:-validationLength]],\n",
    "    y=cmdVel[:-validationLength],\n",
    "    epochs=150,\n",
    "    batch_size=128,\n",
    "    validation_split=0.2,\n",
    "    callbacks=[model_checkpoint_callback]\n",
    ")"
   ]
  },
  {
   "cell_type": "code",
   "execution_count": 14,
   "id": "worse-foster",
   "metadata": {},
   "outputs": [
    {
     "name": "stdout",
     "output_type": "stream",
     "text": [
      "120/120 [==============================] - 1s 8ms/step - loss: 0.1683 - accuracy: 0.7806\n",
      "================================\n",
      "evaluation accurecy: 78%\n"
     ]
    },
    {
     "name": "stderr",
     "output_type": "stream",
     "text": [
      "WARNING:absl:Found untraced functions such as _jit_compiled_convolution_op, lstm_cell_1_layer_call_fn, lstm_cell_1_layer_call_and_return_conditional_losses while saving (showing 3 of 3). These functions will not be directly callable after loading.\n"
     ]
    },
    {
     "name": "stdout",
     "output_type": "stream",
     "text": [
      "INFO:tensorflow:Assets written to: ../../bag/log_8/deepMPCModel78/assets\n"
     ]
    },
    {
     "name": "stderr",
     "output_type": "stream",
     "text": [
      "INFO:tensorflow:Assets written to: ../../bag/log_8/deepMPCModel78/assets\n"
     ]
    }
   ],
   "source": [
    "q = model.evaluate(x=[plan[-validationLength:], heading[-validationLength:], costmap[-validationLength:]],\n",
    "                   y=cmdVel[-validationLength:],\n",
    "                   batch_size=128)\n",
    "q = int(np.array(q).round(2)[1]*100)\n",
    "print(\"================================\")\n",
    "print(f\"evaluation accurecy: {q}%\")\n",
    "\n",
    "address = f\"{DATASET_ADDRESS}/deepMPCModel{q}\"\n",
    "model.save(filepath=address,\n",
    "           overwrite=True, include_optimizer=True)\n",
    "model = load_model(address)"
   ]
  },
  {
   "cell_type": "code",
   "execution_count": 15,
   "id": "optional-tactics",
   "metadata": {},
   "outputs": [
    {
     "name": "stdout",
     "output_type": "stream",
     "text": [
      "1/1 [==============================] - 1s 1s/step\n",
      "sample predicted output: [[ 0.20998025 -0.02068261]]\n"
     ]
    }
   ],
   "source": [
    "i = random.randint(0, plan.shape[0]-1)\n",
    "vel = model.predict([plan[None, i], heading[None, i], costmap[None, i]])\n",
    "print(f\"sample predicted output: {vel}\")"
   ]
  },
  {
   "cell_type": "code",
   "execution_count": null,
   "id": "ready-testament",
   "metadata": {},
   "outputs": [],
   "source": []
  }
 ],
 "metadata": {
  "kernelspec": {
   "display_name": "Python 3",
   "language": "python",
   "name": "python3"
  },
  "language_info": {
   "codemirror_mode": {
    "name": "ipython",
    "version": 3
   },
   "file_extension": ".py",
   "mimetype": "text/x-python",
   "name": "python",
   "nbconvert_exporter": "python",
   "pygments_lexer": "ipython3",
   "version": "3.8.10"
  }
 },
 "nbformat": 4,
 "nbformat_minor": 5
}
